{
 "cells": [
  {
   "cell_type": "markdown",
   "id": "1716aaf0-6d06-4f97-97eb-1321fd15cc98",
   "metadata": {},
   "source": [
    "# Validation plot for photometry paper"
   ]
  },
  {
   "cell_type": "code",
   "execution_count": null,
   "id": "39bd0b3a-18ad-4ccd-a55c-8c3429f578f9",
   "metadata": {},
   "outputs": [],
   "source": [
    "import glob\n",
    "import numpy as np \n",
    "from astropy.io import fits\n",
    "from RetrieveSource import *\n",
    "from EstimateBackground import *\n",
    "from TractorTools import *\n",
    "from Heasarc import *\n",
    "from PSF import *"
   ]
  },
  {
   "cell_type": "markdown",
   "id": "32785d70-37b6-4fa1-bd5d-240f550295b5",
   "metadata": {},
   "source": [
    "### To Do: \n",
    "#### - Get image of isolated source\n",
    "#### - Run tractor on image\n",
    "#### - Plot with heasarc region files, colorbar for chi"
   ]
  },
  {
   "cell_type": "code",
   "execution_count": null,
   "id": "d50226f4-e098-4e08-908e-34dca755d6d6",
   "metadata": {},
   "outputs": [],
   "source": [
    "file_location = '/media/bethany/Seagate Portable Drive/SwiftData/Astrometry/SMC/sw00040415001um2_sk_40415_1_1'\n",
    "HDR = fits.open(file_location+'.new')\n",
    "CAT = file_location+'.full.dat'\n",
    "uvfilter='UVM2'\n",
    "#pd.read_csv(file_location+'.full.dat',delimiter='\\s+',names=['RAhr','DEdeg','Umag','e_Umag','Bmag','e_Bmag','Vmag','e_Vmag','Imag','e_Imag','Flag','Jmag','e_Jmag','Hmag','e_Hmag','Ksmag','e_Ksmag'])\n",
    "\n",
    "# Step 1: Get Zaritsky Coordinates and Catalog \n",
    "shape = np.shape(HDR[0].data)\n",
    "\n",
    "print('---Getting Catalog---')\n",
    "\n",
    "meta = get_meta().with_hdu(HDR[0],\n",
    "                           optical_catalog=CAT,\n",
    "                           xdim=[int(shape[1]/2)-50,int(shape[1]/2)+50],\n",
    "                           ydim=[int(shape[0]/2)-50,int(shape[0]/2)+50])\n",
    "\n",
    "print('---Getting Background---')\n",
    "bkgd = BkgdEstimator(meta,n_pix = [20,20])\n",
    "\n",
    "\n",
    "print('---Getting PSF---')\n",
    "pix_scale = np.abs(meta.cdelt)*3600.\n",
    "\n",
    "psf_object = psf_fit(pixel_per_arsecond = 1/pix_scale,\n",
    "                     uvfilter = uvfilter, width = 23).psf\n",
    "\n",
    "\n",
    "print('---Running Tractor---')\n",
    "\n",
    "fwhm = 2.5\n",
    "sigma =  fwhm/2.355\n",
    "# Restrict by a factor of 4.\n",
    "sigma = sigma/4.\n",
    "        \n",
    "TractorObject = PhotometryTools(meta,\n",
    "                    psf_filename = psf_object,\n",
    "                    fits_table_sname = f\"temp_tractor.fits\", \n",
    "                    background = bkgd,\n",
    "                    fit_positions = sigma,\n",
    "                    threshold = 1.5)"
   ]
  },
  {
   "cell_type": "code",
   "execution_count": null,
   "id": "0e5c0966-0dcd-4dac-9051-e17306aa2f7a",
   "metadata": {},
   "outputs": [],
   "source": []
  }
 ],
 "metadata": {
  "kernelspec": {
   "display_name": "Python 3",
   "language": "python",
   "name": "python3"
  },
  "language_info": {
   "codemirror_mode": {
    "name": "ipython",
    "version": 3
   },
   "file_extension": ".py",
   "mimetype": "text/x-python",
   "name": "python",
   "nbconvert_exporter": "python",
   "pygments_lexer": "ipython3",
   "version": "3.7.5"
  }
 },
 "nbformat": 4,
 "nbformat_minor": 5
}

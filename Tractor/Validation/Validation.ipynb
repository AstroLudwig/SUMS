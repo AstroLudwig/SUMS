{
 "cells": [
  {
   "cell_type": "markdown",
   "id": "1716aaf0-6d06-4f97-97eb-1321fd15cc98",
   "metadata": {},
   "source": [
    "# Validation plot for photometry paper"
   ]
  },
  {
   "cell_type": "markdown",
   "id": "32785d70-37b6-4fa1-bd5d-240f550295b5",
   "metadata": {},
   "source": [
    "### To Do: \n",
    "#### - Get image of isolated source\n",
    "#### - Run tractor on image\n",
    "#### - Plot with heasarc region files, colorbar for chi"
   ]
  },
  {
   "cell_type": "code",
   "execution_count": null,
   "id": "63565af7-8059-4c0c-9d7b-a6c7e26b356a",
   "metadata": {},
   "outputs": [],
   "source": []
  }
 ],
 "metadata": {
  "kernelspec": {
   "display_name": "Python 3",
   "language": "python",
   "name": "python3"
  },
  "language_info": {
   "codemirror_mode": {
    "name": "ipython",
    "version": 3
   },
   "file_extension": ".py",
   "mimetype": "text/x-python",
   "name": "python",
   "nbconvert_exporter": "python",
   "pygments_lexer": "ipython3",
   "version": "3.7.5"
  }
 },
 "nbformat": 4,
 "nbformat_minor": 5
}

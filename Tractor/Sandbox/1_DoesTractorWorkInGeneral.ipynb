{
 "cells": [
  {
   "cell_type": "markdown",
   "metadata": {},
   "source": [
    "### Verification that Tractor is running smoothly\n"
   ]
  },
  {
   "cell_type": "code",
   "execution_count": 4,
   "metadata": {},
   "outputs": [
    {
     "name": "stdout",
     "output_type": "stream",
     "text": [
      "dlnp 4513.523076454851\n",
      "dlnp 463.4199788197744\n",
      "dlnp 0.0012550546867373669\n",
      "dlnp 2.5142746835626895e-06\n"
     ]
    },
    {
     "data": {
      "image/png": "[encoded data removed]",
      "text/plain": [
       "<Figure size 432x288 with 4 Axes>"
      ]
     },
     "metadata": {
      "needs_background": "light"
     },
     "output_type": "display_data"
    }
   ],
   "source": [
    "import numpy as np\n",
    "import pylab as plt\n",
    "from tractor import *\n",
    "\n",
    "# Size of image, centroid and flux of source\n",
    "W,H = 25,25\n",
    "cx,cy = 12.8, 14.3\n",
    "flux = 12.\n",
    "# PSF size\n",
    "psfsigma = 2.\n",
    "# Per-pixel image noise\n",
    "noisesigma = 0.01\n",
    "# Create synthetic Gaussian star image\n",
    "G = np.exp(((np.arange(W)-cx)[np.newaxis,:]**2 +\n",
    "            (np.arange(H)-cy)[:,np.newaxis]**2)/(-2.*psfsigma**2))\n",
    "trueimage = flux * G/G.sum()\n",
    "image = trueimage + noisesigma * np.random.normal(size=trueimage.shape)\n",
    "\n",
    "# Create Tractor Image\n",
    "tim = Image(data=image, invvar=np.ones_like(image) / (noisesigma**2),\n",
    "            psf=NCircularGaussianPSF([psfsigma], [1.]),\n",
    "            wcs=NullWCS(), photocal=NullPhotoCal(),\n",
    "            sky=ConstantSky(0.))\n",
    "\n",
    "# Create Tractor source with approximate position and flux\n",
    "src = PointSource(PixPos(W/2., H/2.), Flux(10.))\n",
    "\n",
    "# Create Tractor object itself\n",
    "tractor = Tractor([tim], [src])\n",
    "\n",
    "# Render the model image\n",
    "mod0 = tractor.getModelImage(0)\n",
    "chi0 = tractor.getChiImage(0)\n",
    "\n",
    "# Plots\n",
    "ima = dict(interpolation='nearest', origin='lower', cmap='gray',\n",
    "           vmin=-2*noisesigma, vmax=5*noisesigma)\n",
    "imchi = dict(interpolation='nearest', origin='lower', cmap='gray',\n",
    "             vmin=-5, vmax=5)\n",
    "plt.clf()\n",
    "plt.subplot(2,2,1)\n",
    "plt.imshow(trueimage, **ima)\n",
    "plt.title('True image')\n",
    "plt.subplot(2,2,2)\n",
    "plt.imshow(image, **ima)\n",
    "plt.title('Image')\n",
    "plt.subplot(2,2,3)\n",
    "plt.imshow(mod0, **ima)\n",
    "plt.title('Tractor model')\n",
    "plt.subplot(2,2,4)\n",
    "plt.imshow(chi0, **imchi)\n",
    "plt.title('Chi')\n",
    "\n",
    "# Freeze all image calibration params -- just fit source params\n",
    "tractor.freezeParam('images')\n",
    "\n",
    "# Save derivatives for later plotting...\n",
    "derivs = tractor.getDerivs()\n",
    "\n",
    "# Take several linearized least squares steps\n",
    "for i in range(10):\n",
    "    dlnp,X,alpha = tractor.optimize()\n",
    "    print ('dlnp', dlnp)\n",
    "    if dlnp < 1e-3:\n",
    "        break\n",
    "\n",
    "# Get the fit model and residual images for plotting\n",
    "mod = tractor.getModelImage(0)\n",
    "chi = tractor.getChiImage(0)\n",
    "# Plots\n",
    "plt.clf()\n",
    "plt.subplot(2,2,1)\n",
    "plt.imshow(trueimage, **ima)\n",
    "plt.title('True image')\n",
    "plt.subplot(2,2,2)\n",
    "plt.imshow(image, **ima)\n",
    "plt.title('Image')\n",
    "plt.subplot(2,2,3)\n",
    "plt.imshow(mod, **ima)\n",
    "plt.title('Tractor model')\n",
    "plt.subplot(2,2,4)\n",
    "plt.imshow(chi, **imchi)\n",
    "plt.title('Chi')\n",
    "\n",
    "\n",
    "# Plot the derivatives we saved earlier\n",
    "def showpatch(patch, ima):\n",
    "    im = patch.patch\n",
    "    h,w = im.shape\n",
    "    ext = [patch.x0,patch.x0+w, patch.y0,patch.y0+h]\n",
    "    plt.imshow(im, extent=ext, **ima)\n",
    "    plt.title(patch.name)\n",
    "imderiv = dict(interpolation='nearest', origin='lower', cmap='gray',\n",
    "               vmin=-0.05, vmax=0.05)\n",
    "plt.clf()\n",
    "plt.subplot(2,2,1)\n",
    "plt.imshow(mod0, **ima)\n",
    "ax = plt.axis()\n",
    "plt.title('Initial Tractor model')\n",
    "for i in range(3):\n",
    "    plt.subplot(2,2,2+i)\n",
    "    showpatch(derivs[i][0][0], imderiv)\n",
    "    plt.axis(ax)\n"
   ]
  },
  {
   "cell_type": "code",
   "execution_count": null,
   "metadata": {},
   "outputs": [],
   "source": []
  }
 ],
 "metadata": {
  "kernelspec": {
   "display_name": "Python 3",
   "language": "python",
   "name": "python3"
  },
  "language_info": {
   "codemirror_mode": {
    "name": "ipython",
    "version": 3
   },
   "file_extension": ".py",
   "mimetype": "text/x-python",
   "name": "python",
   "nbconvert_exporter": "python",
   "pygments_lexer": "ipython3",
   "version": "3.7.5"
  }
 },
 "nbformat": 4,
 "nbformat_minor": 4
}

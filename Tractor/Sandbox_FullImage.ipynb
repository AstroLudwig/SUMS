{
 "cells": [
  {
   "cell_type": "code",
   "execution_count": 1,
   "id": "7e61eed3-cd68-4d8e-b010-c5508e6793de",
   "metadata": {},
   "outputs": [],
   "source": [
    "import matplotlib.pyplot as plt \n",
    "import numpy as np \n",
    "import os,time\n",
    "import glob,sys\n",
    "\n",
    "from astropy.io import fits\n",
    "from astropy.visualization import ZScaleInterval\n",
    "\n",
    "from RetrieveSource import *\n",
    "from EstimateBackground import *\n",
    "from TractorTools import *\n",
    "from Heasarc import *\n",
    "from PSF import *\n"
   ]
  },
  {
   "cell_type": "markdown",
   "id": "316ab440-6c9d-422b-8736-2705db513eaf",
   "metadata": {},
   "source": [
    "### Get image and catalog"
   ]
  },
  {
   "cell_type": "code",
   "execution_count": 2,
   "id": "cb82a8e5-9076-4c48-a520-e4d778d0fd01",
   "metadata": {},
   "outputs": [],
   "source": [
    "# Check defaults of this function to point to correct file paths. \n",
    "uvfilter = 'um2'\n",
    "def get_file(id,galaxy,segment=1,extension=1,filter=uvfilter,file_location = \"/home/bethany/Desktop/Swift_Astrometry\"):\n",
    "    labels = ['RAhr','DEdeg','Umag','e_Umag','Bmag','e_Bmag','Vmag','e_Vmag','Imag','e_Imag','Flag','Jmag','e_Jmag','Hmag','e_Hmag','Ksmag','e_Ksmag']\n",
    "    fname = glob.glob(f\"{file_location}/{galaxy.upper()}/sw000{id}00{segment}{filter}_sk_{id}_{segment}_{extension}.new\")\n",
    "    cname = glob.glob(f\"{file_location}/{galaxy.upper()}/sw000{id}00{segment}{filter}_sk_{id}_{segment}_{extension}.full.dat\")\n",
    "    HDR = fits.open(fname[0])\n",
    "    CAT = pd.read_csv(cname[0],delimiter='\\s+',names=labels)\n",
    "    return HDR[0],CAT,cname\n",
    "\n",
    "hdr,cat,catname = get_file(id=40415,galaxy='smc')"
   ]
  },
  {
   "cell_type": "markdown",
   "id": "4a39fbda-0595-45c2-86d0-1bf0dd423d50",
   "metadata": {},
   "source": [
    "### Run Retrieve Source"
   ]
  },
  {
   "cell_type": "code",
   "execution_count": 3,
   "id": "bc0fbd10-70af-49fb-8d0e-d5380fc52f98",
   "metadata": {},
   "outputs": [
    {
     "name": "stdout",
     "output_type": "stream",
     "text": [
      "---Getting Catalog---\n"
     ]
    },
    {
     "name": "stderr",
     "output_type": "stream",
     "text": [
      "WARNING: FITSFixedWarning: RADECSYS= 'FK5' / default \n",
      "the RADECSYS keyword is deprecated, use RADESYSa. [astropy.wcs.wcs]\n",
      "WARNING: FITSFixedWarning: 'datfix' made the change 'Set DATEREF to '2001-01-01T00:01:04.184' from MJDREF.\n",
      "Set MJD-OBS to 55466.000949 from DATE-OBS.\n",
      "Set MJD-END to 55466.003194 from DATE-END'. [astropy.wcs.wcs]\n",
      "WARNING: FITSFixedWarning: RADECSYS= 'FK5' / default \n",
      "the RADECSYS keyword is deprecated, use RADESYSa. [astropy.wcs.wcs]\n",
      "WARNING: FITSFixedWarning: 'datfix' made the change 'Set DATEREF to '2001-01-01T00:01:04.184' from MJDREF.\n",
      "Set MJD-OBS to 55466.000949 from DATE-OBS.\n",
      "Set MJD-END to 55466.003194 from DATE-END'. [astropy.wcs.wcs]\n",
      "WARNING: FITSFixedWarning: RADECSYS= 'FK5' / default \n",
      "the RADECSYS keyword is deprecated, use RADESYSa. [astropy.wcs.wcs]\n",
      "WARNING: FITSFixedWarning: 'datfix' made the change 'Set DATEREF to '2001-01-01T00:01:04.184' from MJDREF.\n",
      "Set MJD-OBS to 55466.000949 from DATE-OBS.\n",
      "Set MJD-END to 55466.003194 from DATE-END'. [astropy.wcs.wcs]\n",
      "WARNING: AstropyDeprecationWarning: Inputing positions shaped as 2xN is deprecated and will be removed in v0.8.  Positions should be a (x, y) pixel position or a list or array of (x, y) pixel positions, e.g. [(x1, y1), (x2, y2), (x3, y3)]. [photutils.aperture.attributes]\n"
     ]
    },
    {
     "name": "stdout",
     "output_type": "stream",
     "text": [
      "INFO: \n",
      "                Inconsistent SIP distortion information is present in the FITS header and the WCS object:\n",
      "                SIP coefficients were detected, but CTYPE is missing a \"-SIP\" suffix.\n",
      "                astropy.wcs is using the SIP distortion coefficients,\n",
      "                therefore the coordinates calculated here might be incorrect.\n",
      "\n",
      "                If you do not want to apply the SIP distortion coefficients,\n",
      "                please remove the SIP coefficients from the FITS header or the\n",
      "                WCS object.  As an example, if the image is already distortion-corrected\n",
      "                (e.g., drizzled) then distortion components should not apply and the SIP\n",
      "                coefficients should be removed.\n",
      "\n",
      "                While the SIP distortion coefficients are being applied here, if that was indeed the intent,\n",
      "                for consistency please append \"-SIP\" to the CTYPE in the FITS header or the WCS object.\n",
      "\n",
      "                 [astropy.wcs.wcs]\n"
     ]
    },
    {
     "name": "stderr",
     "output_type": "stream",
     "text": [
      "WARNING: AstropyDeprecationWarning: Inputing positions shaped as 2xN is deprecated and will be removed in v0.8.  Positions should be a (x, y) pixel position or a list or array of (x, y) pixel positions, e.g. [(x1, y1), (x2, y2), (x3, y3)]. [photutils.aperture.attributes]\n",
      "/home/bethany/Desktop/SUMS/Tractor/RetrieveSource.py:350: SettingWithCopyWarning: \n",
      "A value is trying to be set on a copy of a slice from a DataFrame.\n",
      "Try using .loc[row_indexer,col_indexer] = value instead\n",
      "\n",
      "See the caveats in the documentation: https://pandas.pydata.org/pandas-docs/stable/user_guide/indexing.html#returning-a-view-versus-a-copy\n",
      "  drop_cat['phot'] = phot\n",
      "WARNING: AstropyDeprecationWarning: \"snr\" was deprecated in version 0.7 and will be removed in a future version. Use argument \"nsigma\" instead. [EstimateBackground]\n"
     ]
    },
    {
     "name": "stdout",
     "output_type": "stream",
     "text": [
      "---Getting Background---\n",
      "Masked Sigma Clipped Stats Original Data: 0.005121566820889711 0.004719083197414875 0.0034211515448987484\n"
     ]
    },
    {
     "name": "stderr",
     "output_type": "stream",
     "text": [
      "WARNING: AstropyDeprecationWarning: \"snr\" was deprecated in version 0.7 and will be removed in a future version. Use argument \"nsigma\" instead. [EstimateBackground]\n"
     ]
    },
    {
     "name": "stdout",
     "output_type": "stream",
     "text": [
      "Masked Sigma Clipped Stats Back Sub Data: 0.0009973413637392198 0.0005785162270206491 0.0033424860410239936\n",
      "---Getting PSF---\n",
      "22.898403522933\n",
      "23\n",
      "Scaling is 1.0044368366976 ArcSeconds per Pixel\n",
      "Image needs to be 23 pixels to be 23 ArcSeconds in size.\n",
      "23\n",
      "Sum Before Normalization  616.9218729335043\n",
      "Sum After Normalization  0.9999999999999998\n",
      "---Running Tractor---\n",
      "dlnp 23105052.92980059\n",
      "dlnp 18347.04726340482\n",
      "dlnp 3186.586712796241\n",
      "dlnp 1693.5203515627654\n",
      "dlnp 146.67316366615705\n",
      "dlnp 626.1249456567457\n",
      "dlnp 885.659102417645\n",
      "dlnp 704.822346908506\n",
      "dlnp 713.3266268956941\n",
      "dlnp 819.0363192379009\n",
      "dlnp 803.4598793690093\n",
      "dlnp 588.3010486507555\n",
      "dlnp 115.5916529004462\n",
      "dlnp 111.38736693304963\n",
      "dlnp 10.24907343776431\n",
      "dlnp 7.780579455895349\n",
      "dlnp 5.2638288418529555\n",
      "dlnp 3.6273686923086643\n",
      "dlnp 0.5805466998135671\n",
      "dlnp 3.303041668026708\n",
      "dlnp 3.0128894489025697\n",
      "dlnp 4.069327338016592\n",
      "dlnp 4.953421428450383\n",
      "dlnp 1.0426901943283156\n",
      "dlnp 6.336309881298803\n",
      "dlnp 3.067065233597532\n",
      "dlnp 8.162659903755412\n",
      "dlnp 1.5173830507555977\n",
      "dlnp 1.9104649347718805\n",
      "dlnp 3.439130885642953\n",
      "dlnp 0.014442371088080108\n",
      "dlnp 0.004615436191670597\n",
      "dlnp 0.001289451145567\n",
      "dlnp 0.0005122687434777617\n",
      "Time Taken: 1301.416928644975 minutes\n"
     ]
    }
   ],
   "source": [
    "start = time.time()\n",
    "\n",
    "print('---Getting Catalog---')\n",
    "source = get_meta().with_hdu(hdu=hdr,\n",
    "                 usno_catalog='smc_anti_match_USNO_inf.dat',\n",
    "                 optical_catalog=catname[0],\n",
    "                 Umag_cutoff=np.nan,\n",
    "                 Bmag_cutoff=np.nan,\n",
    "                 fits_origin=0,\n",
    "                 aperture_size=2.5*2,\n",
    "                 xdim=[0,np.shape(hdr.data)[1]],  #  <---- Full image is selected here.\n",
    "                 ydim=[0,np.shape(hdr.data)[0]])\n",
    "\n",
    "\n",
    "print('---Getting Background---')\n",
    "bkgd = BkgdEstimator(source,n_pix = [20,20])\n",
    "\n",
    "\n",
    "print('---Getting PSF---')\n",
    "pix_scale = np.abs(source.cdelt)*3600.\n",
    "\n",
    "psf_object = psf_fit(pixel_per_arsecond = 1/pix_scale,\n",
    "                     uvfilter = uvfilter, width = 23).psf\n",
    "\n",
    "\n",
    "print('---Running Tractor---')\n",
    "\n",
    "fwhm = 2.5\n",
    "sigma =  fwhm/2.355\n",
    "# Restrict by a factor of 4.\n",
    "sigma = sigma/4.\n",
    "        \n",
    "TractorObject = PhotometryTools(source,\n",
    "                    psf_filename = psf_object,\n",
    "                    fits_table_sname = f\"temp_tractor.fits\", \n",
    "                    background = bkgd,\n",
    "                    fit_positions = sigma,\n",
    "                    threshold = 0.05)\n",
    "print(f\"Time Taken: {(time.time()-start)/60} minutes\")"
   ]
  },
  {
   "cell_type": "code",
   "execution_count": null,
   "id": "3fdad02f-33b7-4a44-819d-c8b654a8f27e",
   "metadata": {},
   "outputs": [],
   "source": []
  }
 ],
 "metadata": {
  "kernelspec": {
   "display_name": "Python 3",
   "language": "python",
   "name": "python3"
  },
  "language_info": {
   "codemirror_mode": {
    "name": "ipython",
    "version": 3
   },
   "file_extension": ".py",
   "mimetype": "text/x-python",
   "name": "python",
   "nbconvert_exporter": "python",
   "pygments_lexer": "ipython3",
   "version": "3.7.5"
  }
 },
 "nbformat": 4,
 "nbformat_minor": 5
}

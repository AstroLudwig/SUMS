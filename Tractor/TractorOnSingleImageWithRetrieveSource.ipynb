{
 "cells": [
  {
   "cell_type": "code",
   "execution_count": 1,
   "metadata": {},
   "outputs": [],
   "source": [
    "import matplotlib.pyplot as plt \n",
    "import numpy as np \n",
    "import os,time\n",
    "import glob,sys\n",
    "\n",
    "from astropy.io import fits\n",
    "from astropy.visualization import ZScaleInterval\n",
    "\n",
    "from RetrieveSource import *\n",
    "from EstimateBackground import *\n",
    "from TractorTools import *\n",
    "from Heasarc import *\n",
    "from PSF import *"
   ]
  },
  {
   "cell_type": "code",
   "execution_count": 2,
   "metadata": {},
   "outputs": [],
   "source": [
    "def vmin(data):\n",
    "    return ZScaleInterval().get_limits(data)[0]\n",
    "def vmax(data):\n",
    "    return ZScaleInterval().get_limits(data)[1]"
   ]
  },
  {
   "cell_type": "code",
   "execution_count": 5,
   "metadata": {},
   "outputs": [],
   "source": [
    "#path = '../Data/UV/SMC'\n",
    "observation_id = 40430\n",
    "\n",
    "def get_hdu_cat_from_file(gal,observation_id):\n",
    "    # TO DO: \n",
    "    # Need to update this function so it does all segments\n",
    "\n",
    "    filenames = glob.glob((f'../Data/UV/{gal}/*{observation_id}*.img.gz'))\n",
    "    print(f\"%s files found for id {observation_id}\" % len(filenames))\n",
    "\n",
    "    hdus = [fits.open(file)[1] for file in filenames]\n",
    "    #data = [fits.open(file)[0] for file in filenames]\n",
    "    names = [file.split('/')[-1].split('.')[0] for file in filenames]\n",
    "    catfiles = [f\"../Data/UV/{gal}/{name}.full.dat\" for name in names]\n",
    "\n",
    "    return hdus,catfiles\n",
    "        \n",
    "\n",
    "def model_field(gal,observation_id):\n",
    "    \n",
    "    print('Attempting ObsID: ', observation_id)\n",
    "    t1 = time.time()\n",
    "    \n",
    "    # If this obsid has not been run before make it it's own folder\n",
    "    path = f\"../Results/Photometry/{observation_id}\"\n",
    "    if not os.path.exists(path):\n",
    "        os.mkdir(path)   \n",
    "        \n",
    "    # To save time, retrieve sources has been run on most fields saving a catalog of sources per field \n",
    "    # Load the right sources within the observation_id field\n",
    "    hdu,catname = get_hdu_cat_from_file(gal,observation_id) \n",
    "\n",
    "    #if len(hdu) < 3: continue\n",
    "    \n",
    "    meta = {}; bkgd = {}; TractorObjects = {}; \n",
    "    Magnitudes = {}; by_filter = {}\n",
    "\n",
    "\n",
    "    for i,h in enumerate(hdu):\n",
    "        uvfilter = h.header['FILTER']\n",
    "        shape = np.shape(h.data)\n",
    "    \n",
    "        # Step 1: Get Zaritsky Coordinates and Catalog \n",
    "        tz = time.time()\n",
    "    \n",
    "        print('---Getting Catalog---')\n",
    "\n",
    "        catalog = catname[i]\n",
    "        print(catalog)\n",
    "        meta[uvfilter] = get_meta().with_hdu(h,\n",
    "                                             optical_catalog=catalog,\n",
    "                                             xdim=[0,shape[1]],\n",
    "                                             ydim=[0,shape[0]],\n",
    "                                             fits_origin=0)\n",
    "    \n",
    "        print(\"Time To Run Retrieve Source: \",(time.time()-tz)/60)\n",
    "    \n",
    "\n",
    "    \n",
    "        # Step 2: Error Estimation\n",
    "        bkgd[uvfilter] = BkgdEstimator(meta[uvfilter],n_pix = [20,20])\n",
    "    \n",
    "\n",
    "        # Step 3: Calculate PSF\n",
    "        pix_scale = np.abs(meta[uvfilter].cdelt)*3600.\n",
    "        psf_object = psf_fit(pixel_per_arsecond = 1/pix_scale,\n",
    "                             uvfilter = uvfilter, \n",
    "                             width = 23).psf\n",
    "    \n",
    "    \n",
    "        # Step 4: Run Tractor \n",
    "        t2 = time.time()\n",
    "        print('---Starting to Run Tractor---')\n",
    "        fwhm = 2.5\n",
    "        # 2.355 is the conversion from fwhm to sigma\n",
    "        sigma =  fwhm/2.355\n",
    "        # Restrict by a factor of 4.\n",
    "        sigma = sigma/4.\n",
    "        \n",
    "        exp_str = meta[uvfilter].exposure_time\n",
    "        \n",
    "        TractorObjects[uvfilter] = PhotometryTools(meta[uvfilter],\n",
    "                            psf_filename = psf_object,\n",
    "                            fits_table_sname = f\"{path}/{observation_id}/{observation_id}_{uvfilter}_{exp_str}_1_1.fits\", # Should change 1_1 to include all segments!\n",
    "                            background = bkgd[uvfilter],\n",
    "                            fit_positions = sigma,\n",
    "                            threshold = 1.5)\n",
    "        print(\"Time To Run Tractor: \",(time.time()-t2)/60)\n",
    "    \n",
    "        # Step 5: Run Heasarc \n",
    "        t3 = time.time()\n",
    "        Magnitudes[uvfilter] = HeasarcRoutines(f\"{path}/{observation_id}/{observation_id}_{uvfilter}_{exp_str}_1_1.fits\",uvfilter)# Should change 1_1 to include all segments!\n",
    "        print(\"Time to Run Heasarc: \",(time.time()-t3)/60)\n",
    "    \n",
    "        # Step 6: Format CSV\n",
    "        t4 = time.time()    \n",
    "    \n",
    "        # Get csv created in Heasarc \n",
    "        df = pd.read_csv(f'{path}/{observation_id}/{observation_id}_{uvfilter}_{exp_str}_1_1.csv')# Should change 1_1 to include all segments!\n",
    "\n",
    "        labels = [uvfilter + '_'+ key for key in df.keys()]\n",
    "        d = {}\n",
    "        for old,new in zip(df.keys(),labels):\n",
    "            d[old] = new\n",
    "        df = df.rename(columns=d)\n",
    "\n",
    "        print(f'Joining Optical catalog with {uvfilter}')\n",
    "        by_filter[uvfilter] = pd.merge(meta[uvfilter].catalog,df,left_on='KEY',right_on=f'{uvfilter}_KEY',how=\"inner\")\n",
    "        print(\"Time to Create CSV by Filter: \",(time.time()-t4)/60)\n",
    "        \n",
    "    \n",
    "        by_filter[uvfilter] = by_filter[uvfilter][by_filter[uvfilter][uvfilter+'_MAG_ERR'] < 0.35]\n",
    "\n",
    "        return TractorObjects"
   ]
  },
  {
   "cell_type": "code",
   "execution_count": 6,
   "metadata": {},
   "outputs": [
    {
     "name": "stdout",
     "output_type": "stream",
     "text": [
      "Attempting ObsID:  40430\n",
      "3 files found for id 40430\n",
      "---Getting Catalog---\n",
      "../Data/UV/SMC/sw00040430003um2_sk_40430_3.full.dat\n"
     ]
    },
    {
     "name": "stderr",
     "output_type": "stream",
     "text": [
      "WARNING: FITSFixedWarning: RADECSYS= 'FK5' / default \n",
      "the RADECSYS keyword is deprecated, use RADESYSa. [astropy.wcs.wcs]\n",
      "WARNING: FITSFixedWarning: 'datfix' made the change 'Set DATEREF to '2001-01-01T00:01:04.184' from MJDREF.\n",
      "Set MJD-OBS to 55894.213704 from DATE-OBS.\n",
      "Set MJD-END to 55894.216644 from DATE-END'. [astropy.wcs.wcs]\n",
      "WARNING: FITSFixedWarning: RADECSYS= 'FK5' / default \n",
      "the RADECSYS keyword is deprecated, use RADESYSa. [astropy.wcs.wcs]\n",
      "WARNING: FITSFixedWarning: 'datfix' made the change 'Set DATEREF to '2001-01-01T00:01:04.184' from MJDREF.\n",
      "Set MJD-OBS to 55894.213704 from DATE-OBS.\n",
      "Set MJD-END to 55894.216644 from DATE-END'. [astropy.wcs.wcs]\n",
      "WARNING: FITSFixedWarning: RADECSYS= 'FK5' / default \n",
      "the RADECSYS keyword is deprecated, use RADESYSa. [astropy.wcs.wcs]\n",
      "WARNING: FITSFixedWarning: 'datfix' made the change 'Set DATEREF to '2001-01-01T00:01:04.184' from MJDREF.\n",
      "Set MJD-OBS to 55894.213704 from DATE-OBS.\n",
      "Set MJD-END to 55894.216644 from DATE-END'. [astropy.wcs.wcs]\n",
      "WARNING: FITSFixedWarning: RADECSYS= 'FK5' / default \n",
      "the RADECSYS keyword is deprecated, use RADESYSa. [astropy.wcs.wcs]\n",
      "WARNING: FITSFixedWarning: 'datfix' made the change 'Set DATEREF to '2001-01-01T00:01:04.184' from MJDREF.\n",
      "Set MJD-OBS to 55894.213704 from DATE-OBS.\n",
      "Set MJD-END to 55894.216644 from DATE-END'. [astropy.wcs.wcs]\n"
     ]
    },
    {
     "name": "stdout",
     "output_type": "stream",
     "text": [
      "Time To Run Retrieve Source:  0.10513971249262492\n"
     ]
    },
    {
     "name": "stderr",
     "output_type": "stream",
     "text": [
      "WARNING: AstropyDeprecationWarning: \"snr\" was deprecated in version 0.7 and will be removed in a future version. Use argument \"nsigma\" instead. [EstimateBackground]\n"
     ]
    },
    {
     "name": "stdout",
     "output_type": "stream",
     "text": [
      "Masked Sigma Clipped Stats Original Data: 0.006371793337166309 0.00568508030846715 0.004013084806501865\n"
     ]
    },
    {
     "name": "stderr",
     "output_type": "stream",
     "text": [
      "WARNING: AstropyDeprecationWarning: \"snr\" was deprecated in version 0.7 and will be removed in a future version. Use argument \"nsigma\" instead. [EstimateBackground]\n"
     ]
    },
    {
     "name": "stdout",
     "output_type": "stream",
     "text": [
      "Masked Sigma Clipped Stats Back Sub Data: 0.0010510022245961228 0.0005784313810861504 0.003604306448701545\n",
      "22.908366950672878\n",
      "23\n",
      "Scaling is 1.003999981732632 ArcSeconds per Pixel\n",
      "Image needs to be 23 pixels to be 23 ArcSeconds in size.\n",
      "23\n",
      "Sum Before Normalization  616.9218729335043\n",
      "Sum After Normalization  0.9999999999999998\n",
      "---Starting to Run Tractor---\n",
      "tractor.psf: failed to import C version of mp_fourier library.  Falling back to python version.\n"
     ]
    },
    {
     "name": "stderr",
     "output_type": "stream",
     "text": [
      "/home/bethany/Desktop/tractor/tractor/lsqr_optimizer.py:495: VisibleDeprecationWarning: Creating an ndarray from ragged nested sequences (which is a list-or-tuple of lists-or-tuples-or ndarrays with different lengths or shapes) is deprecated. If you meant to do this, you must specify 'dtype=object' when creating the ndarray\n",
      "  spcols = np.array(spcols)\n"
     ]
    },
    {
     "ename": "IndexError",
     "evalue": "arrays used as indices must be of integer (or boolean) type",
     "output_type": "error",
     "traceback": [
      "\u001b[0;31m---------------------------------------------------------------------------\u001b[0m",
      "\u001b[0;31mIndexError\u001b[0m                                Traceback (most recent call last)",
      "\u001b[0;32m<ipython-input-6-29aa9346c064>\u001b[0m in \u001b[0;36m<module>\u001b[0;34m\u001b[0m\n\u001b[0;32m----> 1\u001b[0;31m \u001b[0mmodel_field\u001b[0m\u001b[0;34m(\u001b[0m\u001b[0;34m'SMC'\u001b[0m\u001b[0;34m,\u001b[0m\u001b[0;36m40430\u001b[0m\u001b[0;34m)\u001b[0m\u001b[0;34m\u001b[0m\u001b[0;34m\u001b[0m\u001b[0m\n\u001b[0m",
      "\u001b[0;32m<ipython-input-5-676124227844>\u001b[0m in \u001b[0;36mmodel_field\u001b[0;34m(gal, observation_id)\u001b[0m\n\u001b[1;32m     85\u001b[0m                             \u001b[0mbackground\u001b[0m \u001b[0;34m=\u001b[0m \u001b[0mbkgd\u001b[0m\u001b[0;34m[\u001b[0m\u001b[0muvfilter\u001b[0m\u001b[0;34m]\u001b[0m\u001b[0;34m,\u001b[0m\u001b[0;34m\u001b[0m\u001b[0;34m\u001b[0m\u001b[0m\n\u001b[1;32m     86\u001b[0m                             \u001b[0mfit_positions\u001b[0m \u001b[0;34m=\u001b[0m \u001b[0msigma\u001b[0m\u001b[0;34m,\u001b[0m\u001b[0;34m\u001b[0m\u001b[0;34m\u001b[0m\u001b[0m\n\u001b[0;32m---> 87\u001b[0;31m                             threshold = 1.5)\n\u001b[0m\u001b[1;32m     88\u001b[0m         \u001b[0mprint\u001b[0m\u001b[0;34m(\u001b[0m\u001b[0;34m\"Time To Run Tractor: \"\u001b[0m\u001b[0;34m,\u001b[0m\u001b[0;34m(\u001b[0m\u001b[0mtime\u001b[0m\u001b[0;34m.\u001b[0m\u001b[0mtime\u001b[0m\u001b[0;34m(\u001b[0m\u001b[0;34m)\u001b[0m\u001b[0;34m-\u001b[0m\u001b[0mt2\u001b[0m\u001b[0;34m)\u001b[0m\u001b[0;34m/\u001b[0m\u001b[0;36m60\u001b[0m\u001b[0;34m)\u001b[0m\u001b[0;34m\u001b[0m\u001b[0;34m\u001b[0m\u001b[0m\n\u001b[1;32m     89\u001b[0m \u001b[0;34m\u001b[0m\u001b[0m\n",
      "\u001b[0;32m~/Desktop/SUMS/Tractor/TractorTools.py\u001b[0m in \u001b[0;36m__init__\u001b[0;34m(self, source, background, psf_filename, fits_table_sname, save_output, fit_positions, threshold)\u001b[0m\n\u001b[1;32m     85\u001b[0m \u001b[0;34m\u001b[0m\u001b[0m\n\u001b[1;32m     86\u001b[0m         \u001b[0;31m# Run optimization\u001b[0m\u001b[0;34m\u001b[0m\u001b[0;34m\u001b[0m\u001b[0;34m\u001b[0m\u001b[0m\n\u001b[0;32m---> 87\u001b[0;31m         \u001b[0mself\u001b[0m\u001b[0;34m.\u001b[0m\u001b[0moptimize\u001b[0m\u001b[0;34m(\u001b[0m\u001b[0mself\u001b[0m\u001b[0;34m.\u001b[0m\u001b[0mtractor_object\u001b[0m\u001b[0;34m)\u001b[0m\u001b[0;34m\u001b[0m\u001b[0;34m\u001b[0m\u001b[0m\n\u001b[0m\u001b[1;32m     88\u001b[0m \u001b[0;34m\u001b[0m\u001b[0m\n\u001b[1;32m     89\u001b[0m         \u001b[0mself\u001b[0m\u001b[0;34m.\u001b[0m\u001b[0mmodel\u001b[0m \u001b[0;34m=\u001b[0m \u001b[0mself\u001b[0m\u001b[0;34m.\u001b[0m\u001b[0mtractor_object\u001b[0m\u001b[0;34m.\u001b[0m\u001b[0mgetModelImage\u001b[0m\u001b[0;34m(\u001b[0m\u001b[0;36m0\u001b[0m\u001b[0;34m)\u001b[0m\u001b[0;34m\u001b[0m\u001b[0;34m\u001b[0m\u001b[0m\n",
      "\u001b[0;32m~/Desktop/SUMS/Tractor/TractorTools.py\u001b[0m in \u001b[0;36moptimize\u001b[0;34m(self, tractor_object)\u001b[0m\n\u001b[1;32m    175\u001b[0m     \u001b[0;32mdef\u001b[0m \u001b[0moptimize\u001b[0m\u001b[0;34m(\u001b[0m\u001b[0mself\u001b[0m\u001b[0;34m,\u001b[0m\u001b[0mtractor_object\u001b[0m\u001b[0;34m)\u001b[0m\u001b[0;34m:\u001b[0m\u001b[0;34m\u001b[0m\u001b[0;34m\u001b[0m\u001b[0m\n\u001b[1;32m    176\u001b[0m             \u001b[0;32mfor\u001b[0m \u001b[0mi\u001b[0m \u001b[0;32min\u001b[0m \u001b[0mrange\u001b[0m\u001b[0;34m(\u001b[0m\u001b[0;36m100\u001b[0m\u001b[0;34m)\u001b[0m\u001b[0;34m:\u001b[0m\u001b[0;34m\u001b[0m\u001b[0;34m\u001b[0m\u001b[0m\n\u001b[0;32m--> 177\u001b[0;31m                 \u001b[0mdlnp\u001b[0m\u001b[0;34m,\u001b[0m\u001b[0mX\u001b[0m\u001b[0;34m,\u001b[0m\u001b[0malpha\u001b[0m \u001b[0;34m=\u001b[0m \u001b[0mtractor_object\u001b[0m\u001b[0;34m.\u001b[0m\u001b[0moptimize\u001b[0m\u001b[0;34m(\u001b[0m\u001b[0;34m)\u001b[0m\u001b[0;34m\u001b[0m\u001b[0;34m\u001b[0m\u001b[0m\n\u001b[0m\u001b[1;32m    178\u001b[0m                 \u001b[0mprint\u001b[0m \u001b[0;34m(\u001b[0m\u001b[0;34m'dlnp'\u001b[0m\u001b[0;34m,\u001b[0m \u001b[0mdlnp\u001b[0m\u001b[0;34m)\u001b[0m\u001b[0;34m\u001b[0m\u001b[0;34m\u001b[0m\u001b[0m\n\u001b[1;32m    179\u001b[0m                 \u001b[0;31m# If Likelihood condition is reached, stop.\u001b[0m\u001b[0;34m\u001b[0m\u001b[0;34m\u001b[0m\u001b[0;34m\u001b[0m\u001b[0m\n",
      "\u001b[0;32m~/Desktop/tractor/tractor/engine.py\u001b[0m in \u001b[0;36moptimize\u001b[0;34m(self, **kwargs)\u001b[0m\n\u001b[1;32m    258\u001b[0m         \u001b[0mthe\u001b[0m \u001b[0mchi\u001b[0m \u001b[0mvalue\u001b[0m \u001b[0;34m(\u001b[0m\u001b[0;32mand\u001b[0m \u001b[0mderivatives\u001b[0m\u001b[0;34m)\u001b[0m \u001b[0mwill\u001b[0m \u001b[0mbe\u001b[0m \u001b[0mevaluated\u001b[0m\u001b[0;34m.\u001b[0m\u001b[0;34m\u001b[0m\u001b[0;34m\u001b[0m\u001b[0m\n\u001b[1;32m    259\u001b[0m         '''\n\u001b[0;32m--> 260\u001b[0;31m         \u001b[0;32mreturn\u001b[0m \u001b[0mself\u001b[0m\u001b[0;34m.\u001b[0m\u001b[0moptimizer\u001b[0m\u001b[0;34m.\u001b[0m\u001b[0moptimize\u001b[0m\u001b[0;34m(\u001b[0m\u001b[0mself\u001b[0m\u001b[0;34m,\u001b[0m \u001b[0;34m**\u001b[0m\u001b[0mkwargs\u001b[0m\u001b[0;34m)\u001b[0m\u001b[0;34m\u001b[0m\u001b[0;34m\u001b[0m\u001b[0m\n\u001b[0m\u001b[1;32m    261\u001b[0m \u001b[0;34m\u001b[0m\u001b[0m\n\u001b[1;32m    262\u001b[0m     \u001b[0;32mdef\u001b[0m \u001b[0moptimize_loop\u001b[0m\u001b[0;34m(\u001b[0m\u001b[0mself\u001b[0m\u001b[0;34m,\u001b[0m \u001b[0;34m**\u001b[0m\u001b[0mkwargs\u001b[0m\u001b[0;34m)\u001b[0m\u001b[0;34m:\u001b[0m\u001b[0;34m\u001b[0m\u001b[0;34m\u001b[0m\u001b[0m\n",
      "\u001b[0;32m~/Desktop/tractor/tractor/lsqr_optimizer.py\u001b[0m in \u001b[0;36moptimize\u001b[0;34m(self, tractor, alphas, damp, priors, scale_columns, shared_params, variance, just_variance, **nil)\u001b[0m\n\u001b[1;32m    270\u001b[0m                                     \u001b[0mscale_columns\u001b[0m\u001b[0;34m=\u001b[0m\u001b[0mscale_columns\u001b[0m\u001b[0;34m,\u001b[0m\u001b[0;34m\u001b[0m\u001b[0;34m\u001b[0m\u001b[0m\n\u001b[1;32m    271\u001b[0m                                     \u001b[0mshared_params\u001b[0m\u001b[0;34m=\u001b[0m\u001b[0mshared_params\u001b[0m\u001b[0;34m,\u001b[0m\u001b[0;34m\u001b[0m\u001b[0;34m\u001b[0m\u001b[0m\n\u001b[0;32m--> 272\u001b[0;31m                                     variance=variance)\n\u001b[0m\u001b[1;32m    273\u001b[0m         \u001b[0;31m#print('Update:', X)\u001b[0m\u001b[0;34m\u001b[0m\u001b[0;34m\u001b[0m\u001b[0;34m\u001b[0m\u001b[0m\n\u001b[1;32m    274\u001b[0m         \u001b[0;32mif\u001b[0m \u001b[0mX\u001b[0m \u001b[0;32mis\u001b[0m \u001b[0;32mNone\u001b[0m\u001b[0;34m:\u001b[0m\u001b[0;34m\u001b[0m\u001b[0;34m\u001b[0m\u001b[0m\n",
      "\u001b[0;32m~/Desktop/tractor/tractor/lsqr_optimizer.py\u001b[0m in \u001b[0;36mgetUpdateDirection\u001b[0;34m(self, tractor, allderivs, damp, priors, scale_columns, scales_only, chiImages, variance, shared_params, get_A_matrix)\u001b[0m\n\u001b[1;32m    501\u001b[0m             \u001b[0;31m#print('spcols:', len(spcols), 'elements')\u001b[0m\u001b[0;34m\u001b[0m\u001b[0;34m\u001b[0m\u001b[0;34m\u001b[0m\u001b[0m\n\u001b[1;32m    502\u001b[0m             \u001b[0;31m#print('  ', len(set(spcols)), 'unique')\u001b[0m\u001b[0;34m\u001b[0m\u001b[0;34m\u001b[0m\u001b[0;34m\u001b[0m\u001b[0m\n\u001b[0;32m--> 503\u001b[0;31m             \u001b[0mspcols\u001b[0m \u001b[0;34m=\u001b[0m \u001b[0mparamindexmap\u001b[0m\u001b[0;34m[\u001b[0m\u001b[0mspcols\u001b[0m\u001b[0;34m]\u001b[0m\u001b[0;34m\u001b[0m\u001b[0;34m\u001b[0m\u001b[0m\n\u001b[0m\u001b[1;32m    504\u001b[0m             \u001b[0;31m# print('After:')\u001b[0m\u001b[0;34m\u001b[0m\u001b[0;34m\u001b[0m\u001b[0;34m\u001b[0m\u001b[0m\n\u001b[1;32m    505\u001b[0m             \u001b[0;31m#print('spcols:', len(spcols), 'elements')\u001b[0m\u001b[0;34m\u001b[0m\u001b[0;34m\u001b[0m\u001b[0;34m\u001b[0m\u001b[0m\n",
      "\u001b[0;31mIndexError\u001b[0m: arrays used as indices must be of integer (or boolean) type"
     ]
    }
   ],
   "source": [
    "model_field('SMC',40430)"
   ]
  },
  {
   "cell_type": "code",
   "execution_count": null,
   "metadata": {},
   "outputs": [],
   "source": [
    "labels = [\"Ra\",\"Dec\",\"Umag\",\"e_Umag\",\n",
    "                     \"Bmag\",\"e_Bmag\",\"Vmag\",\"e_Vmag\",\"Imag\",\"e_Imag\",\n",
    "                     \"Flag\",\"Jmag\",\"e_Jmag\",\"Hmag\",\"e_Hmag\",\"Ksmag\",\"e_Ksmag\"]\n",
    "        \n",
    "#df = pd.read_csv(\"../Data/UV/SMC/sw00040430003um2_sk_40430_3.full.dat\",sep=\"\\s+\",names=labels)"
   ]
  },
  {
   "cell_type": "code",
   "execution_count": null,
   "metadata": {},
   "outputs": [],
   "source": [
    "#df"
   ]
  },
  {
   "cell_type": "code",
   "execution_count": null,
   "metadata": {},
   "outputs": [],
   "source": []
  }
 ],
 "metadata": {
  "kernelspec": {
   "display_name": "Python 3",
   "language": "python",
   "name": "python3"
  },
  "language_info": {
   "codemirror_mode": {
    "name": "ipython",
    "version": 3
   },
   "file_extension": ".py",
   "mimetype": "text/x-python",
   "name": "python",
   "nbconvert_exporter": "python",
   "pygments_lexer": "ipython3",
   "version": "3.7.5"
  }
 },
 "nbformat": 4,
 "nbformat_minor": 4
}

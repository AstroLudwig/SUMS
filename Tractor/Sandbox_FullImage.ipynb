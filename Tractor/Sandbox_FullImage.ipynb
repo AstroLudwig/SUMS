{
 "cells": [
  {
   "cell_type": "code",
   "execution_count": 1,
   "id": "7e61eed3-cd68-4d8e-b010-c5508e6793de",
   "metadata": {},
   "outputs": [],
   "source": [
    "import matplotlib.pyplot as plt \n",
    "import numpy as np \n",
    "import os,time\n",
    "import glob,sys\n",
    "\n",
    "from astropy.io import fits\n",
    "from astropy.visualization import ZScaleInterval\n",
    "from mpl_toolkits.axes_grid1 import make_axes_locatable\n",
    "\n",
    "from RetrieveSource import *\n",
    "from EstimateBackground import *\n",
    "from TractorTools import *\n",
    "from Heasarc import *\n",
    "from PSF import *\n",
    "\n",
    "\n",
    "from matplotlib import rcParams\n",
    "rcParams['font.family'] = 'serif'\n",
    "rcParams['font.sans-serif'] = ['Times New Roman']"
   ]
  },
  {
   "cell_type": "markdown",
   "id": "316ab440-6c9d-422b-8736-2705db513eaf",
   "metadata": {},
   "source": [
    "### Get image and catalog"
   ]
  },
  {
   "cell_type": "code",
   "execution_count": 2,
   "id": "cb82a8e5-9076-4c48-a520-e4d778d0fd01",
   "metadata": {},
   "outputs": [],
   "source": [
    "# Check defaults of this function to point to correct file paths. \n",
    "uvfilter = 'um2'\n",
    "id = 40417\n",
    "segment = 1\n",
    "extension = 1\n",
    "path = \"/home/bethany/Desktop/Swift_Astrometry\"\n",
    "galaxy = 'SMC'\n",
    "savepath = path + f'/Photometry/{galaxy}/'\n",
    "\n",
    "savepath = savepath + str(id)\n",
    "\n",
    "if not os.path.exists(savepath):\n",
    "    os.makedirs(savepath)\n",
    "\n",
    "savefile = savepath + f\"{id}_{segment}_{extension}_{uvfilter}.fits\"\n",
    "\n",
    "if uvfilter == 'um2':\n",
    "    heafilter = 'UVM2'\n",
    "    \n",
    "def get_file(id,galaxy,segment=segment,extension=extension,filter=uvfilter,file_location = path):\n",
    "    labels = ['RAhr','DEdeg','Umag','e_Umag','Bmag','e_Bmag','Vmag','e_Vmag','Imag','e_Imag','Flag','Jmag','e_Jmag','Hmag','e_Hmag','Ksmag','e_Ksmag']\n",
    "    fname = glob.glob(f\"{file_location}/{galaxy.upper()}/sw000{id}00{segment}{filter}_sk_{id}_{segment}_{extension}.new\")\n",
    "    cname = glob.glob(f\"{file_location}/{galaxy.upper()}/sw000{id}00{segment}{filter}_sk_{id}_{segment}_{extension}.full.dat\")\n",
    "    HDR = fits.open(fname[0])\n",
    "    CAT = pd.read_csv(cname[0],delimiter='\\s+',names=labels)\n",
    "    return HDR[0],CAT,cname\n",
    "\n",
    "hdr,cat,catname = get_file(id=id,galaxy=galaxy)"
   ]
  },
  {
   "cell_type": "markdown",
   "id": "4a39fbda-0595-45c2-86d0-1bf0dd423d50",
   "metadata": {},
   "source": [
    "### Run Tractor"
   ]
  },
  {
   "cell_type": "code",
   "execution_count": null,
   "id": "bc0fbd10-70af-49fb-8d0e-d5380fc52f98",
   "metadata": {},
   "outputs": [
    {
     "name": "stdout",
     "output_type": "stream",
     "text": [
      "File 40417_1_1_um2 now running.\n",
      "---Getting Catalog---\n"
     ]
    },
    {
     "name": "stderr",
     "output_type": "stream",
     "text": [
      "WARNING: FITSFixedWarning: RADECSYS= 'FK5' / default \n",
      "the RADECSYS keyword is deprecated, use RADESYSa. [astropy.wcs.wcs]\n",
      "WARNING: FITSFixedWarning: 'datfix' made the change 'Set DATEREF to '2001-01-01T00:01:04.184' from MJDREF.\n",
      "Set MJD-OBS to 55467.458785 from DATE-OBS.\n",
      "Set MJD-END to 55467.461956 from DATE-END'. [astropy.wcs.wcs]\n",
      "WARNING: FITSFixedWarning: RADECSYS= 'FK5' / default \n",
      "the RADECSYS keyword is deprecated, use RADESYSa. [astropy.wcs.wcs]\n",
      "WARNING: FITSFixedWarning: 'datfix' made the change 'Set DATEREF to '2001-01-01T00:01:04.184' from MJDREF.\n",
      "Set MJD-OBS to 55467.458785 from DATE-OBS.\n",
      "Set MJD-END to 55467.461956 from DATE-END'. [astropy.wcs.wcs]\n",
      "WARNING: FITSFixedWarning: RADECSYS= 'FK5' / default \n",
      "the RADECSYS keyword is deprecated, use RADESYSa. [astropy.wcs.wcs]\n",
      "WARNING: FITSFixedWarning: 'datfix' made the change 'Set DATEREF to '2001-01-01T00:01:04.184' from MJDREF.\n",
      "Set MJD-OBS to 55467.458785 from DATE-OBS.\n",
      "Set MJD-END to 55467.461956 from DATE-END'. [astropy.wcs.wcs]\n",
      "WARNING: AstropyDeprecationWarning: Inputing positions shaped as 2xN is deprecated and will be removed in v0.8.  Positions should be a (x, y) pixel position or a list or array of (x, y) pixel positions, e.g. [(x1, y1), (x2, y2), (x3, y3)]. [photutils.aperture.attributes]\n"
     ]
    },
    {
     "name": "stdout",
     "output_type": "stream",
     "text": [
      "INFO: \n",
      "                Inconsistent SIP distortion information is present in the FITS header and the WCS object:\n",
      "                SIP coefficients were detected, but CTYPE is missing a \"-SIP\" suffix.\n",
      "                astropy.wcs is using the SIP distortion coefficients,\n",
      "                therefore the coordinates calculated here might be incorrect.\n",
      "\n",
      "                If you do not want to apply the SIP distortion coefficients,\n",
      "                please remove the SIP coefficients from the FITS header or the\n",
      "                WCS object.  As an example, if the image is already distortion-corrected\n",
      "                (e.g., drizzled) then distortion components should not apply and the SIP\n",
      "                coefficients should be removed.\n",
      "\n",
      "                While the SIP distortion coefficients are being applied here, if that was indeed the intent,\n",
      "                for consistency please append \"-SIP\" to the CTYPE in the FITS header or the WCS object.\n",
      "\n",
      "                 [astropy.wcs.wcs]\n"
     ]
    },
    {
     "name": "stderr",
     "output_type": "stream",
     "text": [
      "WARNING: AstropyDeprecationWarning: Inputing positions shaped as 2xN is deprecated and will be removed in v0.8.  Positions should be a (x, y) pixel position or a list or array of (x, y) pixel positions, e.g. [(x1, y1), (x2, y2), (x3, y3)]. [photutils.aperture.attributes]\n",
      "/home/bethany/Desktop/SUMS/Tractor/RetrieveSource.py:353: SettingWithCopyWarning: \n",
      "A value is trying to be set on a copy of a slice from a DataFrame.\n",
      "Try using .loc[row_indexer,col_indexer] = value instead\n",
      "\n",
      "See the caveats in the documentation: https://pandas.pydata.org/pandas-docs/stable/user_guide/indexing.html#returning-a-view-versus-a-copy\n",
      "  drop_cat['phot'] = phot\n",
      "WARNING: AstropyDeprecationWarning: \"snr\" was deprecated in version 0.7 and will be removed in a future version. Use argument \"nsigma\" instead. [EstimateBackground]\n"
     ]
    },
    {
     "name": "stdout",
     "output_type": "stream",
     "text": [
      "---Getting Background---\n",
      "Masked Sigma Clipped Stats Original Data: 0.005640092305839062 0.005121281370520592 0.003445275826379657\n"
     ]
    },
    {
     "name": "stderr",
     "output_type": "stream",
     "text": [
      "WARNING: AstropyDeprecationWarning: \"snr\" was deprecated in version 0.7 and will be removed in a future version. Use argument \"nsigma\" instead. [EstimateBackground]\n"
     ]
    },
    {
     "name": "stdout",
     "output_type": "stream",
     "text": [
      "Masked Sigma Clipped Stats Back Sub Data: 0.000980092909730014 0.000552631775661172 0.0032253361204622804\n",
      "---Getting PSF---\n",
      "22.903962009432647\n",
      "23\n",
      "Scaling is 1.0041930732564 ArcSeconds per Pixel\n",
      "Image needs to be 23 pixels to be 23 ArcSeconds in size.\n",
      "23\n",
      "Sum Before Normalization  616.9218729335043\n",
      "Sum After Normalization  0.9999999999999998\n",
      "---Running Tractor---\n",
      "dlnp 35431138.07418785\n"
     ]
    }
   ],
   "source": [
    "start = time.time()\n",
    "print(f\"File {id}_{segment}_{extension}_{uvfilter} now running.\")\n",
    "\n",
    "    \n",
    "print('---Getting Catalog---')\n",
    "source = get_meta().with_hdu(hdu=hdr,\n",
    "                 usno_catalog='smc_anti_match_USNO_inf.dat',\n",
    "                 optical_catalog=catname[0],\n",
    "                 Umag_cutoff=np.nan,\n",
    "                 Bmag_cutoff=np.nan,\n",
    "                 fits_origin=0,\n",
    "                 aperture_size=2.5*2,\n",
    "                 xdim=[0,np.shape(hdr.data)[1]],  #  <---- Full image is selected here.\n",
    "                 ydim=[0,np.shape(hdr.data)[0]])\n",
    "\n",
    "\n",
    "print('---Getting Background---')\n",
    "bkgd = BkgdEstimator(source,n_pix = [20,20])\n",
    "\n",
    "\n",
    "print('---Getting PSF---')\n",
    "pix_scale = np.abs(source.cdelt)*3600.\n",
    "\n",
    "psf_object = psf_fit(pixel_per_arsecond = 1/pix_scale,\n",
    "                     uvfilter = uvfilter, width = 23).psf\n",
    "\n",
    "\n",
    "print('---Running Tractor---')\n",
    "\n",
    "fwhm = 2.5\n",
    "sigma =  fwhm/2.355\n",
    "# Restrict by a factor of 4.\n",
    "sigma = sigma/4.\n",
    "        \n",
    "TractorObject = PhotometryTools(source,\n",
    "                    psf_filename = psf_object,\n",
    "                    fits_table_sname = savefile, \n",
    "                    background = bkgd,\n",
    "                    fit_positions = 0.05,\n",
    "                    threshold = 1.5,\n",
    "                    save_output=True)\n",
    "\n",
    "\n",
    "print(f\"Time Taken for Tractor: {(time.time()-start)/60/60} hours\")"
   ]
  },
  {
   "cell_type": "code",
   "execution_count": null,
   "id": "a4796f00-37b3-430a-ad16-2bd067549b77",
   "metadata": {},
   "outputs": [],
   "source": [
    "# Visualize Tractor results\n",
    "\n",
    "f, axs = plt.subplots(2,3,figsize=(30,20))\n",
    "\n",
    "\n",
    "vmin,vmax = ZScaleInterval().get_limits(source.data)\n",
    "im1 = axs[0,0].imshow(source.data,vmin=vmin,vmax=vmax,origin='lower',cmap='Greys_r')\n",
    "\n",
    "vmin,vmax = ZScaleInterval().get_limits(bkgd.background)\n",
    "im2 = axs[0,1].imshow(bkgd.background ,vmin=vmin,vmax=vmax,origin='lower',cmap='Greys_r')\n",
    "\n",
    "vmin,vmax = ZScaleInterval().get_limits(TractorObject.image)\n",
    "im3 = axs[0,2].imshow(TractorObject.image,vmin=vmin,vmax=vmax,origin='lower',cmap='Greys_r')\n",
    "\n",
    "\n",
    "axs[0,0].set_title('Original Data',fontsize=30)\n",
    "axs[0,1].set_title('Background',fontsize=30)\n",
    "axs[0,2].set_title('Tractor Data',fontsize=30)\n",
    "\n",
    "\n",
    "vmin,vmax = ZScaleInterval().get_limits(TractorObject.model)\n",
    "im4 = axs[1,0].imshow(TractorObject.model,vmin=vmin,vmax=vmax,origin='lower',cmap='Greys_r')\n",
    "\n",
    "vmin,vmax = ZScaleInterval().get_limits(TractorObject.chi)\n",
    "im5 = axs[1,1].imshow(TractorObject.chi ,vmin=vmin,vmax=vmax,origin='lower',cmap='Greys_r')\n",
    "\n",
    "vmin,vmax = ZScaleInterval().get_limits(TractorObject.image-TractorObject.model)\n",
    "im6 = axs[1,2].imshow(TractorObject.image-TractorObject.model ,vmin=vmin,vmax=vmax,origin='lower',cmap='Greys_r')\n",
    "\n",
    "plt.colorbar(im1,ax=axs[0,0],orientation='vertical',fraction=0.046, pad=0.04)\n",
    "plt.colorbar(im2,ax=axs[0,1],orientation='vertical',fraction=0.046, pad=0.04)\n",
    "plt.colorbar(im3,ax=axs[0,2],orientation='vertical',fraction=0.046, pad=0.04)\n",
    "plt.colorbar(im4,ax=axs[1,0],orientation='vertical',fraction=0.046, pad=0.04)\n",
    "plt.colorbar(im5,ax=axs[1,1],orientation='vertical',fraction=0.046, pad=0.04)\n",
    "plt.colorbar(im6,ax=axs[1,2],orientation='vertical',fraction=0.046, pad=0.04)\n",
    "\n",
    "axs[1,0].set_title('Model',fontsize=30)\n",
    "axs[1,1].set_title('Chi',fontsize=30)\n",
    "axs[1,2].set_title('Residual',fontsize=30)\n",
    "\n",
    "plt.savefig(savefile[:-5]+'_ScaledToSelf.png')"
   ]
  },
  {
   "cell_type": "code",
   "execution_count": null,
   "id": "c17a7e2a-91f2-4793-a62d-789947e38cf2",
   "metadata": {},
   "outputs": [],
   "source": [
    "# Visualize Tractor results\n",
    "\n",
    "f, axs = plt.subplots(2,3,figsize=(30,20))\n",
    "\n",
    "vmin,vmax = ZScaleInterval().get_limits(TractorObject.image)\n",
    "\n",
    "im1 = axs[0,0].imshow(source.data,vmin=vmin,vmax=vmax,origin='lower',cmap='Greys_r')\n",
    "im2 = axs[0,1].imshow(bkgd.background ,vmin=vmin,vmax=vmax,origin='lower',cmap='Greys_r')\n",
    "im3 = axs[0,2].imshow(TractorObject.image,vmin=vmin,vmax=vmax,origin='lower',cmap='Greys_r')\n",
    "im4 = axs[1,0].imshow(TractorObject.model,vmin=vmin,vmax=vmax,origin='lower',cmap='Greys_r')\n",
    "im5 = axs[1,1].imshow(TractorObject.chi ,vmin=vmin,vmax=vmax,origin='lower',cmap='Greys_r')\n",
    "im6 = axs[1,2].imshow(TractorObject.image-TractorObject.model ,vmin=vmin,vmax=vmax,origin='lower',cmap='Greys_r')\n",
    "\n",
    "plt.colorbar(im1,ax=axs[0,0],orientation='vertical',fraction=0.046, pad=0.04)\n",
    "plt.colorbar(im2,ax=axs[0,1],orientation='vertical',fraction=0.046, pad=0.04)\n",
    "plt.colorbar(im3,ax=axs[0,2],orientation='vertical',fraction=0.046, pad=0.04)\n",
    "plt.colorbar(im4,ax=axs[1,0],orientation='vertical',fraction=0.046, pad=0.04)\n",
    "plt.colorbar(im5,ax=axs[1,1],orientation='vertical',fraction=0.046, pad=0.04)\n",
    "plt.colorbar(im6,ax=axs[1,2],orientation='vertical',fraction=0.046, pad=0.04)\n",
    "\n",
    "axs[0,0].set_title('Original Data',fontsize=30)\n",
    "axs[0,1].set_title('Background',fontsize=30)\n",
    "axs[0,2].set_title('Tractor Data',fontsize=30)\n",
    "axs[1,0].set_title('Model',fontsize=30)\n",
    "axs[1,1].set_title('Chi',fontsize=30)\n",
    "axs[1,2].set_title('Residual',fontsize=30)\n",
    "\n",
    "plt.savefig(savefile[:-5]+'_ScaledToTractorData.png')"
   ]
  },
  {
   "cell_type": "code",
   "execution_count": null,
   "id": "4f6772ac-781e-46a2-b934-43d2a511411b",
   "metadata": {},
   "outputs": [],
   "source": [
    "# Step 5: Run Heasarc \n",
    "Magnitudes = HeasarcRoutines(savefile,heafilter)\n",
    "\n"
   ]
  },
  {
   "cell_type": "code",
   "execution_count": null,
   "id": "e165155c-1610-4273-b258-179b0c23af2b",
   "metadata": {},
   "outputs": [],
   "source": []
  }
 ],
 "metadata": {
  "kernelspec": {
   "display_name": "Python 3",
   "language": "python",
   "name": "python3"
  },
  "language_info": {
   "codemirror_mode": {
    "name": "ipython",
    "version": 3
   },
   "file_extension": ".py",
   "mimetype": "text/x-python",
   "name": "python",
   "nbconvert_exporter": "python",
   "pygments_lexer": "ipython3",
   "version": "3.7.5"
  }
 },
 "nbformat": 4,
 "nbformat_minor": 5
}

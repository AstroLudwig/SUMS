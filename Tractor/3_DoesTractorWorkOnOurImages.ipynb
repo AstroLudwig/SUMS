{
 "cells": [
  {
   "cell_type": "markdown",
   "metadata": {},
   "source": [
    "### Get Image and Catalog"
   ]
  },
  {
   "cell_type": "code",
   "execution_count": 1,
   "metadata": {},
   "outputs": [],
   "source": [
    "import matplotlib.pyplot as plt \n",
    "import numpy as np \n",
    "import os,time\n",
    "import glob,sys\n",
    "\n",
    "from astropy.io import fits\n",
    "from astropy.visualization import ZScaleInterval\n",
    "\n",
    "from RetrieveSource import *\n",
    "from EstimateBackground import *\n",
    "from TractorTools import *\n",
    "from Heasarc import *\n",
    "from PSF import *"
   ]
  },
  {
   "cell_type": "code",
   "execution_count": 2,
   "metadata": {},
   "outputs": [
    {
     "name": "stdout",
     "output_type": "stream",
     "text": [
      "Your browser has been opened to visit:\n",
      "\n",
      "    https://accounts.google.com/o/oauth2/auth?client_id=465987015783-enajp1p9qkfhldmamsaj7vgqmtofsldc.apps.googleusercontent.com&redirect_uri=http%3A%2F%2Flocalhost%3A8080%2F&scope=https%3A%2F%2Fwww.googleapis.com%2Fauth%2Fdrive&access_type=offline&response_type=code\n",
      "\n",
      "Authentication successful.\n"
     ]
    }
   ],
   "source": [
    "from GetInfoFromDrive import get_file"
   ]
  },
  {
   "cell_type": "code",
   "execution_count": 9,
   "metadata": {},
   "outputs": [
    {
     "name": "stdout",
     "output_type": "stream",
     "text": [
      "Found Catalog\n",
      "Found Image\n"
     ]
    }
   ],
   "source": [
    "id = 40415\n",
    "segment = 1\n",
    "extension = 1\n",
    "filter ='um2'\n",
    "uvfilter = 'UVM2'\n",
    "\n",
    "HDR,CAT = get_file(id,segment,filter,extension,'smc')"
   ]
  },
  {
   "cell_type": "code",
   "execution_count": 16,
   "metadata": {},
   "outputs": [
    {
     "name": "stdout",
     "output_type": "stream",
     "text": [
      "---Getting Catalog---\n"
     ]
    },
    {
     "name": "stderr",
     "output_type": "stream",
     "text": [
      "WARNING: FITSFixedWarning: RADECSYS= 'FK5' / default \n",
      "the RADECSYS keyword is deprecated, use RADESYSa. [astropy.wcs.wcs]\n",
      "WARNING: FITSFixedWarning: 'datfix' made the change 'Set DATEREF to '2001-01-01T00:01:04.184' from MJDREF.\n",
      "Set MJD-OBS to 55466.000949 from DATE-OBS.\n",
      "Set MJD-END to 55466.003194 from DATE-END'. [astropy.wcs.wcs]\n",
      "WARNING: FITSFixedWarning: RADECSYS= 'FK5' / default \n",
      "the RADECSYS keyword is deprecated, use RADESYSa. [astropy.wcs.wcs]\n",
      "WARNING: FITSFixedWarning: 'datfix' made the change 'Set DATEREF to '2001-01-01T00:01:04.184' from MJDREF.\n",
      "Set MJD-OBS to 55466.000949 from DATE-OBS.\n",
      "Set MJD-END to 55466.003194 from DATE-END'. [astropy.wcs.wcs]\n",
      "WARNING: FITSFixedWarning: RADECSYS= 'FK5' / default \n",
      "the RADECSYS keyword is deprecated, use RADESYSa. [astropy.wcs.wcs]\n",
      "WARNING: FITSFixedWarning: 'datfix' made the change 'Set DATEREF to '2001-01-01T00:01:04.184' from MJDREF.\n",
      "Set MJD-OBS to 55466.000949 from DATE-OBS.\n",
      "Set MJD-END to 55466.003194 from DATE-END'. [astropy.wcs.wcs]\n",
      "WARNING: FITSFixedWarning: RADECSYS= 'FK5' / default \n",
      "the RADECSYS keyword is deprecated, use RADESYSa. [astropy.wcs.wcs]\n",
      "WARNING: FITSFixedWarning: 'datfix' made the change 'Set DATEREF to '2001-01-01T00:01:04.184' from MJDREF.\n",
      "Set MJD-OBS to 55466.000949 from DATE-OBS.\n",
      "Set MJD-END to 55466.003194 from DATE-END'. [astropy.wcs.wcs]\n"
     ]
    },
    {
     "name": "stdout",
     "output_type": "stream",
     "text": [
      "INFO: \n",
      "                Inconsistent SIP distortion information is present in the FITS header and the WCS object:\n",
      "                SIP coefficients were detected, but CTYPE is missing a \"-SIP\" suffix.\n",
      "                astropy.wcs is using the SIP distortion coefficients,\n",
      "                therefore the coordinates calculated here might be incorrect.\n",
      "\n",
      "                If you do not want to apply the SIP distortion coefficients,\n",
      "                please remove the SIP coefficients from the FITS header or the\n",
      "                WCS object.  As an example, if the image is already distortion-corrected\n",
      "                (e.g., drizzled) then distortion components should not apply and the SIP\n",
      "                coefficients should be removed.\n",
      "\n",
      "                While the SIP distortion coefficients are being applied here, if that was indeed the intent,\n",
      "                for consistency please append \"-SIP\" to the CTYPE in the FITS header or the WCS object.\n",
      "\n",
      "                 [astropy.wcs.wcs]\n",
      "---Getting Background---\n",
      "Masked Sigma Clipped Stats Original Data: 0.00603925297036767 0.005453162826597691 0.003799581667408347\n",
      "Masked Sigma Clipped Stats Back Sub Data: 0.0012192761531387014 0.0006653435779277522 0.00374496461779616\n",
      "---Getting PSF---\n",
      "22.898403522933\n",
      "23\n",
      "Scaling is 1.0044368366976 ArcSeconds per Pixel\n",
      "Image needs to be 23 pixels to be 23 ArcSeconds in size.\n"
     ]
    },
    {
     "name": "stderr",
     "output_type": "stream",
     "text": [
      "WARNING: AstropyDeprecationWarning: \"snr\" was deprecated in version 0.7 and will be removed in a future version. Use argument \"nsigma\" instead. [EstimateBackground]\n",
      "WARNING: AstropyDeprecationWarning: \"snr\" was deprecated in version 0.7 and will be removed in a future version. Use argument \"nsigma\" instead. [EstimateBackground]\n"
     ]
    },
    {
     "name": "stdout",
     "output_type": "stream",
     "text": [
      "23\n",
      "Sum Before Normalization  616.9218729335043\n",
      "Sum After Normalization  0.9999999999999998\n",
      "---Running Tractor---\n",
      "dlnp 181530.06074293764\n",
      "dlnp 62.13163336143771\n",
      "dlnp 4.414528791279281\n",
      "dlnp 0.2108856462523363\n",
      "dlnp 0.012780556796769815\n",
      "dlnp 0.001627973103950353\n",
      "dlnp 0.0002503524256098899\n"
     ]
    }
   ],
   "source": [
    "# Step 1: Get Zaritsky Coordinates and Catalog \n",
    "#uvfilter = h.header['FILTER']\n",
    "shape = np.shape(HDR[0].data)\n",
    "\n",
    "print('---Getting Catalog---')\n",
    "\n",
    "meta = get_meta().with_hdu(HDR[0],\n",
    "                           optical_catalog=CAT,\n",
    "                           xdim=[int(shape[1]/2)-50,int(shape[1]/2)+50],\n",
    "                           ydim=[int(shape[0]/2)-50,int(shape[0]/2)+50])\n",
    "\n",
    "print('---Getting Background---')\n",
    "bkgd = BkgdEstimator(meta,n_pix = [20,20])\n",
    "\n",
    "\n",
    "print('---Getting PSF---')\n",
    "pix_scale = np.abs(meta.cdelt)*3600.\n",
    "\n",
    "psf_object = psf_fit(pixel_per_arsecond = 1/pix_scale,\n",
    "                     uvfilter = uvfilter, width = 23).psf\n",
    "\n",
    "\n",
    "print('---Running Tractor---')\n",
    "\n",
    "fwhm = 2.5\n",
    "sigma =  fwhm/2.355\n",
    "# Restrict by a factor of 4.\n",
    "sigma = sigma/4.\n",
    "        \n",
    "TractorObject = PhotometryTools(meta,\n",
    "                    psf_filename = psf_object,\n",
    "                    fits_table_sname = f\"temp_tractor.fits\", \n",
    "                    background = bkgd,\n",
    "                    fit_positions = sigma,\n",
    "                    threshold = 1.5)"
   ]
  },
  {
   "cell_type": "code",
   "execution_count": null,
   "metadata": {},
   "outputs": [],
   "source": [
    "\n",
    "#         # Step 5: Run Heasarc \n",
    "#         t3 = time.time()\n",
    "#         Magnitudes[uvfilter] = HeasarcRoutines(f\"{path}/{observation_id}/{observation_id}_{uvfilter}_{exp_str}_1_1.fits\",uvfilter)# Should change 1_1 to include all segments!\n",
    "#         print(\"Time to Run Heasarc: \",(time.time()-t3)/60)\n",
    "    \n",
    "#         # Step 6: Format CSV\n",
    "#         t4 = time.time()    \n",
    "    \n",
    "#         # Get csv created in Heasarc \n",
    "#         df = pd.read_csv(f'{path}/{observation_id}/{observation_id}_{uvfilter}_{exp_str}_1_1.csv')# Should change 1_1 to include all segments!\n",
    "\n",
    "#         labels = [uvfilter + '_'+ key for key in df.keys()]\n",
    "#         d = {}\n",
    "#         for old,new in zip(df.keys(),labels):\n",
    "#             d[old] = new\n",
    "#         df = df.rename(columns=d)\n",
    "\n",
    "#         print(f'Joining Optical catalog with {uvfilter}')\n",
    "#         by_filter[uvfilter] = pd.merge(meta[uvfilter].catalog,df,left_on='KEY',right_on=f'{uvfilter}_KEY',how=\"inner\")\n",
    "#         print(\"Time to Create CSV by Filter: \",(time.time()-t4)/60)\n",
    "        \n",
    "    \n",
    "#         by_filter[uvfilter] = by_filter[uvfilter][by_filter[uvfilter][uvfilter+'_MAG_ERR'] < 0.35]\n",
    "\n",
    "#         return TractorObjects"
   ]
  },
  {
   "cell_type": "code",
   "execution_count": null,
   "metadata": {},
   "outputs": [],
   "source": []
  }
 ],
 "metadata": {
  "kernelspec": {
   "display_name": "Python 3",
   "language": "python",
   "name": "python3"
  },
  "language_info": {
   "codemirror_mode": {
    "name": "ipython",
    "version": 3
   },
   "file_extension": ".py",
   "mimetype": "text/x-python",
   "name": "python",
   "nbconvert_exporter": "python",
   "pygments_lexer": "ipython3",
   "version": "3.7.5"
  }
 },
 "nbformat": 4,
 "nbformat_minor": 4
}

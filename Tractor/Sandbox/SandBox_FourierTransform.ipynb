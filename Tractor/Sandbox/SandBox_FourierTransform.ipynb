{
 "cells": [
  {
   "cell_type": "code",
   "execution_count": 13,
   "metadata": {},
   "outputs": [],
   "source": [
    "import glob\n",
    "import pandas as pd\n",
    "import astropy.units as u\n",
    "import matplotlib.pyplot as plt\n",
    "import skimage.transform as skt\n",
    "import skimage\n",
    "import numpy as np\n",
    "import ipywidgets as widgets\n",
    "\n",
    "from astropy.io import fits\n",
    "from astropy.wcs import WCS\n",
    "from astropy.coordinates import SkyCoord \n",
    "from astropy.visualization import ZScaleInterval\n",
    "\n",
    "from photutils.aperture import CircularAperture\n",
    "from RetrieveSource import *\n",
    "from mpl_toolkits.axes_grid1 import make_axes_locatable\n",
    "from ipywidgets import interact\n"
   ]
  },
  {
   "cell_type": "code",
   "execution_count": 10,
   "metadata": {},
   "outputs": [],
   "source": [
    "############\n",
    "# Get File #\n",
    "############\n",
    "\n",
    "def get_file(id,segment=1,extension=1,filter='um2',galaxy='SMC'):\n",
    "    file_location = f\"/media/bethany/Seagate Portable Drive/SwiftData/Astrometry/{galaxy}\"\n",
    "    labels = ['RAhr','DEdeg','Umag','e_Umag','Bmag','e_Bmag','Vmag','e_Vmag','Imag','e_Imag','Flag','Jmag','e_Jmag','Hmag','e_Hmag','Ksmag','e_Ksmag']\n",
    "    fname = glob.glob(f\"{file_location}/sw000{id}00{segment}{filter}_sk_{id}_{segment}_{extension}.new\")\n",
    "    cname = glob.glob(f\"{file_location}/sw000{id}00{segment}{filter}_sk_{id}_{segment}_{extension}.full.dat\")\n",
    "    HDR = fits.open(fname[0])\n",
    "    CAT = pd.read_csv(cname[0],delimiter='\\s+',names=labels)\n",
    "    return HDR, CAT, cname\n",
    "\n",
    "def plot_file(id,segment=1,extension=1,filter='um2',xdim=None,ydim=None):   \n",
    "    Z = ZScaleInterval()\n",
    "    HDR,CAT,cname = get_file(id,segment=1,extension=1,filter='um2')\n",
    "    data = HDR[0].data\n",
    "    if xdim == None:\n",
    "        vmin,vmax = Z.get_limits(data)\n",
    "    else:\n",
    "        vmin,vmax = Z.get_limits(data[ydim[0]:ydim[1],xdim[0]:xdim[1]])\n",
    "    f= plt.figure(figsize=(10,10))\n",
    "    plt.imshow(data,origin='lower',vmin=vmin,vmax=vmax)\n",
    "    plt.xlim(xdim)\n",
    "    plt.ylim(ydim)\n",
    "    \n",
    "def get_pixel_coordinates(HDR,CAT):\n",
    "    co = SkyCoord(CAT['RAhr'],CAT['DEdeg'],unit=(u.hourangle,u.deg))\n",
    "    x,y = co.to_pixel(WCS(HDR[0].header))\n",
    "    CAT['X'] = x\n",
    "    CAT['Y'] = y\n",
    "    return x,y \n",
    "\n",
    "def reformat_pixel_coordinates(x,y):\n",
    "    # If you need coordinates as integers or need to move from edges at all\n",
    "    x_co = np.array([int(np.round(x_)) for x_ in X[Y<1312]])\n",
    "    y_co = np.array([int(np.round(y_)) for y_ in Y[Y<1312]])\n",
    "    return x_co,y_co\n",
    "\n",
    "def get_data(id) :\n",
    "    HDR,CAT,cname = get_file(id,segment=1,extension=1,filter='um2')\n",
    "    return HDR[0].data\n",
    "\n",
    "def sane_plot(data) : \n",
    "    f= plt.figure(figsize=(5,5))\n",
    "    plt.imshow(data, origin='lower', vmin=0, vmax=15);"
   ]
  },
  {
   "cell_type": "code",
   "execution_count": 82,
   "metadata": {},
   "outputs": [
    {
     "data": {
      "application/vnd.jupyter.widget-view+json": {
       "model_id": "c2548d40506b427a84f741cfd0859005",
       "version_major": 2,
       "version_minor": 0
      },
      "text/plain": [
       "interactive(children=(IntSlider(value=139, description='n_x', max=1303, min=139), IntSlider(value=164, descrip…"
      ]
     },
     "metadata": {},
     "output_type": "display_data"
    },
    {
     "data": {
      "text/plain": [
       "<function __main__.check_section(n_x, n_y, obsid=40416)>"
      ]
     },
     "execution_count": 82,
     "metadata": {},
     "output_type": "execute_result"
    }
   ],
   "source": [
    "def d(x0,y0,x,y):\n",
    "    distance = np.sqrt((x-x0)**2 + (y-y0)**2)\n",
    "    distance = np.delete(distance,np.where(distance == 0.))\n",
    "    return distance\n",
    "def check(min_x,min_y):\n",
    "    for x,y in zip(min_x,min_y):\n",
    "        dist = d(x,y,min_x,min_y)\n",
    "        if np.min(dist) < 1:\n",
    "            print('warning')\n",
    "\n",
    "def check_section(n_x,n_y,obsid=40416):\n",
    "    \n",
    "    data = get_data(obsid);\n",
    "    data = skt.rotate(skimage.util.img_as_float64(data),24)\n",
    "    data = data[n_y:n_y+50,n_x:n_x+50];\n",
    "\n",
    "    if len(data[data!=0]) == 0: \n",
    "        \n",
    "        print(\"No Data in Section\")\n",
    "    else:\n",
    "    \n",
    "        fourier_data = np.fft.fftshift(np.fft.fft2(data));\n",
    "\n",
    "        min_y,min_x = np.where(np.isclose(np.log(abs(fourier_data)), np.min(np.log(abs(fourier_data))),atol=1))\n",
    "\n",
    "        Z = ZScaleInterval()\n",
    "        vmin,vmax = Z.get_limits(data)\n",
    "        vmin1,vmax1 = Z.get_limits(np.log(abs(fourier_data)))\n",
    "\n",
    "        f, axes = plt.subplots(1,2,figsize=(10,5))\n",
    "\n",
    "        im1 = axes[0].imshow(data,origin=\"lower\",vmin=vmin,vmax=vmax)\n",
    "        im2 = axes[1].imshow(np.log(abs(fourier_data)),origin=\"lower\",vmin=vmin1,vmax=vmax1)\n",
    "\n",
    "        axes[1].scatter(min_x,min_y,c='r')\n",
    "        axes[0].set_title(\"Original Section\")\n",
    "        axes[1].set_title(\"Fourier Transform\")\n",
    "        \n",
    "        divider = make_axes_locatable(axes[0])\n",
    "        cax = divider.append_axes(\"right\", size=\"5%\", pad=0.05)\n",
    "        plt.colorbar(im1, cax=cax)\n",
    "    \n",
    "        divider = make_axes_locatable(axes[1])\n",
    "        cax = divider.append_axes(\"right\", size=\"5%\", pad=0.05)\n",
    "        plt.colorbar(im2, cax=cax)\n",
    "    \n",
    "        check(min_x,min_y)\n",
    "            \n",
    "interact(check_section,\n",
    "         n_x=widgets.IntSlider(min=139, max=1303, step=1, value=0),\n",
    "         n_y=widgets.IntSlider(min=164, max=1316, step=1, value=0),\n",
    "         obsid=widgets.IntSlider(min=40415, max=40465, step=1, value=40416))"
   ]
  },
  {
   "cell_type": "code",
   "execution_count": null,
   "metadata": {},
   "outputs": [],
   "source": []
  }
 ],
 "metadata": {
  "kernelspec": {
   "display_name": "Python 3",
   "language": "python",
   "name": "python3"
  },
  "language_info": {
   "codemirror_mode": {
    "name": "ipython",
    "version": 3
   },
   "file_extension": ".py",
   "mimetype": "text/x-python",
   "name": "python",
   "nbconvert_exporter": "python",
   "pygments_lexer": "ipython3",
   "version": "3.7.5"
  }
 },
 "nbformat": 4,
 "nbformat_minor": 4
}
